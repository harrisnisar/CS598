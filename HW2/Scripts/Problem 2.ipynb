{
 "cells": [
  {
   "cell_type": "code",
   "execution_count": 2,
   "metadata": {},
   "outputs": [],
   "source": [
    "import numpy as np\n",
    "import matplotlib.pyplot as plt\n",
    "import numpy.linalg as la\n",
    "import sklearn.decomposition as skd\n",
    "import scipy.io                 as sio"
   ]
  },
  {
   "cell_type": "code",
   "execution_count": null,
   "metadata": {},
   "outputs": [],
   "source": []
  },
  {
   "cell_type": "markdown",
   "metadata": {},
   "source": [
    "<H2>My implementation of PCA:</H2>\n",
    "\n",
    "- Inputs\n",
    "     - D -> a centered data matrix, in particular one that has samples across columns and dimensions across the rows\n",
    "     - numComponents -> how many principal components we want to keep, my implentation is simple and doesn't look at any error metrics, simply keeps numComponents of the PC's and drops the rest blindly\n",
    "- Outputs\n",
    "     - eigenVectors -> a matrix which has the same number of rows as the input data matrix has features and numComponents number of columns\n",
    "- Notes\n",
    "     - I use SVD to do the eigen value decomposition\n",
    "     - https://numpy.org/doc/stable/reference/generated/numpy.linalg.svd.html\n",
    "     - https://stackoverflow.com/a/12273032"
   ]
  },
  {
   "cell_type": "code",
   "execution_count": 3,
   "metadata": {},
   "outputs": [],
   "source": [
    "def pca( D, k_or_tol ):\n",
    "    # Author: C. Howard\n",
    "    # method to perform PCA on some input data given the dimensionality\n",
    "    # we want our resulting features to have or given a tolerance on the\n",
    "    # ratio between singular values and the max singular value\n",
    "\n",
    "    # perform economy SVD on input data\n",
    "    [U,S,Vt] = la.svd(D, full_matrices = False )\n",
    "\n",
    "    # make copy of singular values\n",
    "    iv = np.copy(S)\n",
    "\n",
    "    # define current number of weight terms as follow\n",
    "    k = k_or_tol\n",
    "\n",
    "    # if we are picking k using a relative difference\n",
    "    # between singular value magnitudes\n",
    "    if k_or_tol < 1:\n",
    "        b = iv >= S[0]*k_or_tol  # find indices for all singular value ratios > threshold\n",
    "        k = np.sum(b)\n",
    "\n",
    "    # compute weight matrix and pseudo-inverse of weight matrix using truncated SVD terms\n",
    "    W       = U[:, :k].T\n",
    "    Winv    = U[:, :k]\n",
    "\n",
    "    # return weights and original singular values\n",
    "    return (W,Winv,S)"
   ]
  },
  {
   "cell_type": "markdown",
   "metadata": {},
   "source": [
    "<H2>My implementation of ICA:</H2>\n",
    "\n",
    "- Inputs\n",
    "     - whitenedData -> a centered and whitened data matrix, I pass the centered data projected onto principal components here\n",
    "     - alpha -> the learning rate, default is 0.1\n",
    "     - threshold -> this is what our delta wc needs to be to be considered optimized, default is 1e-7\n",
    "     - maxSteps -> for every component, we don't spend more than this amount of steps, default is 5000\n",
    "- Outputs\n",
    "     - W -> the inverse of the mixing matrix\n",
    "- Notes\n",
    "     - Sources:\n",
    "         - https://github.com/akcarsten/Independent_Component_Analysis\n",
    "         - https://en.wikipedia.org/wiki/FastICA"
   ]
  },
  {
   "cell_type": "code",
   "execution_count": 4,
   "metadata": {},
   "outputs": [],
   "source": [
    "def g(u):\n",
    "    return np.tanh(u)\n",
    "def gPrime(u):\n",
    "    return 1 - np.square(np.tanh(u))"
   ]
  },
  {
   "cell_type": "code",
   "execution_count": 19,
   "metadata": {},
   "outputs": [],
   "source": [
    "def fastIca(signals,  alpha = 1, thresh=1e-8, iterations=5000):\n",
    "    m, n = signals.shape\n",
    "\n",
    "    # Initialize random weights\n",
    "    W = np.random.rand(m, m)\n",
    "\n",
    "    for c in range(m):\n",
    "        w = W[c, :].copy().reshape(m, 1)\n",
    "        w = w / np.sqrt((w ** 2).sum())\n",
    "\n",
    "        i = 0\n",
    "        lim = 100\n",
    "        while ((lim > thresh) & (i < iterations)):\n",
    "\n",
    "            # Dot product of weight and signal\n",
    "            ws = np.dot(w.T, signals)\n",
    "\n",
    "            # Pass w*s into contrast function g\n",
    "            wg = np.tanh(ws * alpha).T\n",
    "\n",
    "            # Pass w*s into g prime\n",
    "            wg_ = (1 - np.square(np.tanh(ws))) * alpha\n",
    "\n",
    "            # Update weights\n",
    "            wNew = (signals * wg.T).mean(axis=1) - 0.001*wg_.mean() * w.squeeze()\n",
    "\n",
    "            # Decorrelate weights              \n",
    "            wNew = wNew - np.dot(np.dot(wNew, W[:c].T), W[:c])\n",
    "            wNew = wNew / np.sqrt((wNew ** 2).sum())\n",
    "\n",
    "            # Calculate limit condition\n",
    "            lim = np.abs(np.abs((wNew * w).sum()) - 1)\n",
    "\n",
    "            # Update weights\n",
    "            w = wNew\n",
    "\n",
    "            # Update counter\n",
    "            i += 1\n",
    "\n",
    "        W[c, :] = w.T\n",
    "    return W"
   ]
  },
  {
   "cell_type": "code",
   "execution_count": 20,
   "metadata": {},
   "outputs": [],
   "source": [
    "# load data and set some helper variables\n",
    "D = np.load(\"../Data/digits-labels.npz\")[\"d\"]\n",
    "(numRawFeatures, num_images) = D.shape\n",
    "num_features = 36"
   ]
  },
  {
   "cell_type": "code",
   "execution_count": 21,
   "metadata": {},
   "outputs": [],
   "source": [
    "# compute mean of images\n",
    "mu_i = np.matmul(D, np.ones((num_images, 1)) / num_images)\n",
    "\n",
    "# subtract mean from data\n",
    "Dn = D - mu_i\n",
    "\n",
    "# Perform PCA from zero-mean form of data\n",
    "W1, W1pi, sv = pca(Dn, num_features)"
   ]
  },
  {
   "cell_type": "code",
   "execution_count": 22,
   "metadata": {},
   "outputs": [
    {
     "name": "stdout",
     "output_type": "stream",
     "text": [
      "0\n"
     ]
    },
    {
     "ename": "KeyboardInterrupt",
     "evalue": "",
     "output_type": "error",
     "traceback": [
      "\u001b[1;31m---------------------------------------------------------------------------\u001b[0m",
      "\u001b[1;31mKeyboardInterrupt\u001b[0m                         Traceback (most recent call last)",
      "\u001b[1;32m<ipython-input-22-65b35c863fd3>\u001b[0m in \u001b[0;36m<module>\u001b[1;34m\u001b[0m\n\u001b[0;32m      1\u001b[0m \u001b[1;31m# perform ICA\u001b[0m\u001b[1;33m\u001b[0m\u001b[1;33m\u001b[0m\u001b[1;33m\u001b[0m\u001b[0m\n\u001b[1;32m----> 2\u001b[1;33m \u001b[1;33m(\u001b[0m\u001b[0mMinv\u001b[0m\u001b[1;33m,\u001b[0m \u001b[0mM\u001b[0m\u001b[1;33m)\u001b[0m \u001b[1;33m=\u001b[0m \u001b[0mica\u001b[0m\u001b[1;33m(\u001b[0m\u001b[0mW1\u001b[0m\u001b[1;33m,\u001b[0m \u001b[0mrandom_seed\u001b[0m\u001b[1;33m=\u001b[0m\u001b[1;36m17\u001b[0m\u001b[1;33m,\u001b[0m \u001b[0meps\u001b[0m\u001b[1;33m=\u001b[0m\u001b[1;36m1e-8\u001b[0m\u001b[1;33m)\u001b[0m\u001b[1;33m\u001b[0m\u001b[1;33m\u001b[0m\u001b[0m\n\u001b[0m\u001b[0;32m      3\u001b[0m \u001b[0mW2\u001b[0m \u001b[1;33m=\u001b[0m \u001b[0mnp\u001b[0m\u001b[1;33m.\u001b[0m\u001b[0mmatmul\u001b[0m\u001b[1;33m(\u001b[0m\u001b[0mMinv\u001b[0m\u001b[1;33m,\u001b[0m \u001b[0mW1\u001b[0m\u001b[1;33m)\u001b[0m\u001b[1;33m\u001b[0m\u001b[1;33m\u001b[0m\u001b[0m\n\u001b[0;32m      4\u001b[0m \u001b[0mprint\u001b[0m\u001b[1;33m(\u001b[0m\u001b[0mnp\u001b[0m\u001b[1;33m.\u001b[0m\u001b[0mshape\u001b[0m\u001b[1;33m(\u001b[0m\u001b[0mW\u001b[0m\u001b[1;33m)\u001b[0m\u001b[1;33m)\u001b[0m\u001b[1;33m\u001b[0m\u001b[1;33m\u001b[0m\u001b[0m\n\u001b[0;32m      5\u001b[0m \u001b[0mW2pi\u001b[0m \u001b[1;33m=\u001b[0m \u001b[0mnp\u001b[0m\u001b[1;33m.\u001b[0m\u001b[0mlinalg\u001b[0m\u001b[1;33m.\u001b[0m\u001b[0mpinv\u001b[0m\u001b[1;33m(\u001b[0m\u001b[0mW2\u001b[0m\u001b[1;33m)\u001b[0m\u001b[1;33m\u001b[0m\u001b[1;33m\u001b[0m\u001b[0m\n",
      "\u001b[1;32m<ipython-input-5-68a44836bfe4>\u001b[0m in \u001b[0;36mica\u001b[1;34m(signals, eps, random_seed, useStandard)\u001b[0m\n\u001b[0;32m      9\u001b[0m             \u001b[0mz\u001b[0m \u001b[1;33m=\u001b[0m \u001b[0mW\u001b[0m\u001b[1;33m[\u001b[0m\u001b[1;33m:\u001b[0m\u001b[1;33m,\u001b[0m\u001b[0mp\u001b[0m\u001b[1;33m]\u001b[0m\u001b[1;33m.\u001b[0m\u001b[0mT\u001b[0m \u001b[1;33m@\u001b[0m \u001b[0msignals\u001b[0m\u001b[1;33m\u001b[0m\u001b[1;33m\u001b[0m\u001b[0m\n\u001b[0;32m     10\u001b[0m \u001b[1;33m\u001b[0m\u001b[0m\n\u001b[1;32m---> 11\u001b[1;33m             \u001b[0mgz\u001b[0m \u001b[1;33m=\u001b[0m \u001b[0mg\u001b[0m\u001b[1;33m(\u001b[0m\u001b[0mz\u001b[0m\u001b[1;33m)\u001b[0m\u001b[1;33m\u001b[0m\u001b[1;33m\u001b[0m\u001b[0m\n\u001b[0m\u001b[0;32m     12\u001b[0m             \u001b[0mgzPrime\u001b[0m \u001b[1;33m=\u001b[0m \u001b[0mgPrime\u001b[0m\u001b[1;33m(\u001b[0m\u001b[0mz\u001b[0m\u001b[1;33m)\u001b[0m\u001b[1;33m\u001b[0m\u001b[1;33m\u001b[0m\u001b[0m\n\u001b[0;32m     13\u001b[0m \u001b[1;33m\u001b[0m\u001b[0m\n",
      "\u001b[1;32m<ipython-input-4-aa012911a06e>\u001b[0m in \u001b[0;36mg\u001b[1;34m(u)\u001b[0m\n\u001b[0;32m      1\u001b[0m \u001b[1;32mdef\u001b[0m \u001b[0mg\u001b[0m\u001b[1;33m(\u001b[0m\u001b[0mu\u001b[0m\u001b[1;33m)\u001b[0m\u001b[1;33m:\u001b[0m\u001b[1;33m\u001b[0m\u001b[1;33m\u001b[0m\u001b[0m\n\u001b[1;32m----> 2\u001b[1;33m     \u001b[1;32mreturn\u001b[0m \u001b[0mnp\u001b[0m\u001b[1;33m.\u001b[0m\u001b[0mtanh\u001b[0m\u001b[1;33m(\u001b[0m\u001b[0mu\u001b[0m\u001b[1;33m)\u001b[0m\u001b[1;33m\u001b[0m\u001b[1;33m\u001b[0m\u001b[0m\n\u001b[0m\u001b[0;32m      3\u001b[0m \u001b[1;32mdef\u001b[0m \u001b[0mgPrime\u001b[0m\u001b[1;33m(\u001b[0m\u001b[0mu\u001b[0m\u001b[1;33m)\u001b[0m\u001b[1;33m:\u001b[0m\u001b[1;33m\u001b[0m\u001b[1;33m\u001b[0m\u001b[0m\n\u001b[0;32m      4\u001b[0m     \u001b[1;32mreturn\u001b[0m \u001b[1;36m1\u001b[0m \u001b[1;33m-\u001b[0m \u001b[0mnp\u001b[0m\u001b[1;33m.\u001b[0m\u001b[0msquare\u001b[0m\u001b[1;33m(\u001b[0m\u001b[0mnp\u001b[0m\u001b[1;33m.\u001b[0m\u001b[0mtanh\u001b[0m\u001b[1;33m(\u001b[0m\u001b[0mu\u001b[0m\u001b[1;33m)\u001b[0m\u001b[1;33m)\u001b[0m\u001b[1;33m\u001b[0m\u001b[1;33m\u001b[0m\u001b[0m\n",
      "\u001b[1;31mKeyboardInterrupt\u001b[0m: "
     ]
    }
   ],
   "source": [
    "\n",
    "# perform ICA\n",
    "(Minv, M) = ica(W1, random_seed=17, eps=1e-8)\n",
    "W2 = np.matmul(Minv, W1)\n",
    "print(np.shape(W))\n",
    "W2pi = np.linalg.pinv(W2)\n",
    "print(np.shape(W2pi))"
   ]
  },
  {
   "cell_type": "code",
   "execution_count": null,
   "metadata": {},
   "outputs": [],
   "source": [
    "# # perform NMF\n",
    "# nmf_obj = skd.NMF(n_components=num_features, random_state=17)\n",
    "# H = nmf_obj.fit_transform(np.abs(Dn).T).T\n",
    "# W3 = nmf_obj.components_.T"
   ]
  },
  {
   "cell_type": "code",
   "execution_count": null,
   "metadata": {
    "scrolled": true
   },
   "outputs": [],
   "source": [
    "# plot pca features\n",
    "fig, axs = plt.subplots(6, 6)\n",
    "\n",
    "for i in range(6):\n",
    "    for j in range(6):\n",
    "        dataIndex = 6*i+j\n",
    "        axs[i, j].imshow(np.reshape(W1pi[:,dataIndex],(28,28),'F'), cmap = plt.cm.gray)\n",
    "counter = 0\n",
    "for ax in axs.flatten():\n",
    "    ax.axes.xaxis.set_ticks([])\n",
    "    ax.axes.yaxis.set_ticks([])\n",
    "    ax.title.set_text('PC'+ str(counter+1))\n",
    "    counter += 1\n",
    "fig.set_figheight(15)\n",
    "fig.set_figwidth(15)  "
   ]
  },
  {
   "cell_type": "code",
   "execution_count": null,
   "metadata": {},
   "outputs": [],
   "source": [
    "\n",
    "# plot ica features\n",
    "fig, axs = plt.subplots(6, 6)\n",
    "\n",
    "for i in range(6):\n",
    "    for j in range(6):\n",
    "        dataIndex = 6*i+j\n",
    "        axs[i, j].imshow(np.reshape(W2pi[:,dataIndex],(28,28),'F'))\n",
    "counter = 0\n",
    "for ax in axs.flatten():\n",
    "    ax.axes.xaxis.set_ticks([])\n",
    "    ax.axes.yaxis.set_ticks([])\n",
    "    ax.title.set_text('IC'+ str(counter+1))\n",
    "    counter += 1\n",
    "fig.set_figheight(15)\n",
    "fig.set_figwidth(15) "
   ]
  },
  {
   "cell_type": "code",
   "execution_count": null,
   "metadata": {},
   "outputs": [],
   "source": [
    "print(np.shape(W3))\n",
    "print(np.shape(H))\n",
    "fig, axs = plt.subplots(6, 6)\n",
    "\n",
    "for i in range(6):\n",
    "    for j in range(6):\n",
    "        dataIndex = 6*i+j\n",
    "        axs[i, j].imshow(np.reshape(W3[:,dataIndex],(28,28),'F'), cmap = plt.cm.gray)\n",
    "counter = 0\n",
    "for ax in axs.flatten():\n",
    "    ax.axes.xaxis.set_ticks([])\n",
    "    ax.axes.yaxis.set_ticks([])\n",
    "    ax.title.set_text('NMF W'+ str(counter+1))\n",
    "    counter += 1\n",
    "fig.set_figheight(15)\n",
    "fig.set_figwidth(15) "
   ]
  },
  {
   "cell_type": "code",
   "execution_count": null,
   "metadata": {},
   "outputs": [],
   "source": []
  }
 ],
 "metadata": {
  "kernelspec": {
   "display_name": "Python 3",
   "language": "python",
   "name": "python3"
  },
  "language_info": {
   "codemirror_mode": {
    "name": "ipython",
    "version": 3
   },
   "file_extension": ".py",
   "mimetype": "text/x-python",
   "name": "python",
   "nbconvert_exporter": "python",
   "pygments_lexer": "ipython3",
   "version": "3.6.10"
  }
 },
 "nbformat": 4,
 "nbformat_minor": 4
}
