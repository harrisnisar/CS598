{
 "cells": [
  {
   "cell_type": "code",
   "execution_count": 1,
   "metadata": {},
   "outputs": [],
   "source": [
    "import numpy                    as np\n",
    "import scipy.io.wavfile         as wav\n",
    "import matplotlib.pyplot        as plt\n",
    "import sklearn.decomposition    as skd\n",
    "import math\n",
    "import numpy.linalg as la"
   ]
  },
  {
   "cell_type": "code",
   "execution_count": 3,
   "metadata": {},
   "outputs": [],
   "source": [
    "# load data and set some helper variables\n",
    "D = np.load(\"../Data/digits-labels.npz\")[\"d\"]\n",
    "(numRawFeatures, numDesiredFeatures) = D.shape\n",
    "numDesiredFeatures = 36"
   ]
  },
  {
   "cell_type": "code",
   "execution_count": 2,
   "metadata": {},
   "outputs": [],
   "source": [
    "def pca(centeredData):\n",
    "    return [U,S,Vt] = la.svd(D, full_matrices = False )"
   ]
  },
  {
   "cell_type": "code",
   "execution_count": null,
   "metadata": {},
   "outputs": [],
   "source": [
    "def ica(zp):\n",
    "    return "
   ]
  },
  {
   "cell_type": "code",
   "execution_count": null,
   "metadata": {},
   "outputs": [],
   "source": [
    "# 1. do pca using svd to get eigen vectors and eigen values\n",
    "# 2. scale those eigen vectors with some version of eigen values. this becomes Wp\n",
    "# 3. do ica on Wp to get Wi\n",
    "# 4. W = Wp @ Wi\n",
    "# 5. plot the pinv(W)"
   ]
  }
 ],
 "metadata": {
  "kernelspec": {
   "display_name": "Python 3",
   "language": "python",
   "name": "python3"
  },
  "language_info": {
   "codemirror_mode": {
    "name": "ipython",
    "version": 3
   },
   "file_extension": ".py",
   "mimetype": "text/x-python",
   "name": "python",
   "nbconvert_exporter": "python",
   "pygments_lexer": "ipython3",
   "version": "3.6.10"
  }
 },
 "nbformat": 4,
 "nbformat_minor": 4
}
