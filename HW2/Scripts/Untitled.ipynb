{
 "cells": [
  {
   "cell_type": "code",
   "execution_count": 2,
   "metadata": {},
   "outputs": [],
   "source": [
    "import numpy                    as np\n",
    "import scipy.io.wavfile         as wav\n",
    "import matplotlib.pyplot        as plt\n",
    "import sklearn.decomposition    as skd\n",
    "import math\n",
    "import numpy.linalg as la"
   ]
  },
  {
   "cell_type": "code",
   "execution_count": 4,
   "metadata": {},
   "outputs": [
    {
     "name": "stdout",
     "output_type": "stream",
     "text": [
      "We have 10000 images of vectorized length 784. We are trying to reduce these images to be 36-dimensional.\n"
     ]
    }
   ],
   "source": [
    "# load data and set some helper variables\n",
    "X = np.load(\"../Data/digits-labels.npz\")[\"d\"]\n",
    "m, n = D.shape # m is number of features and n is number of images\n",
    "k = 36 # k is the number of pc's we want\n",
    "\n",
    "print(f\"We have {n} images of vectorized length {m}. We are trying to reduce these images to be {k}-dimensional.\")"
   ]
  },
  {
   "cell_type": "code",
   "execution_count": 11,
   "metadata": {},
   "outputs": [],
   "source": [
    "def pca(centeredData, numOfComponents):\n",
    "    [U,S,Vt] = la.svd(D, full_matrices = False)"
   ]
  },
  {
   "cell_type": "code",
   "execution_count": 12,
   "metadata": {},
   "outputs": [],
   "source": [
    "def ica(zp):\n",
    "    return "
   ]
  },
  {
   "cell_type": "code",
   "execution_count": 13,
   "metadata": {},
   "outputs": [],
   "source": [
    "# 1. do pca using svd to get eigen vectors and eigen values\n",
    "\n",
    "# center data\n",
    "mu_image = (1/m) * (X @ np.ones((n,1)))\n",
    "X_zeroed = X - mu_image\n",
    "\n",
    "# get covariance of X_zeroed\n",
    "cov_X_zeroed = (1/(n-1)) * (X_zeroed @ X_zeroed.T)\n",
    "\n",
    "# run PCA on this covariance to get Wp\n",
    "Wp = pca(cov_X_zeroed, k)"
   ]
  },
  {
   "cell_type": "code",
   "execution_count": 7,
   "metadata": {},
   "outputs": [],
   "source": []
  },
  {
   "cell_type": "code",
   "execution_count": null,
   "metadata": {},
   "outputs": [],
   "source": []
  },
  {
   "cell_type": "code",
   "execution_count": null,
   "metadata": {},
   "outputs": [],
   "source": [
    "\n",
    "# 2. scale those eigen vectors with some version of eigen values. this becomes Wp\n",
    "# 3. do ica on Wp to get Wi\n",
    "# 4. W = Wp @ Wi\n",
    "# 5. plot the pinv(W)"
   ]
  }
 ],
 "metadata": {
  "kernelspec": {
   "display_name": "Python 3",
   "language": "python",
   "name": "python3"
  },
  "language_info": {
   "codemirror_mode": {
    "name": "ipython",
    "version": 3
   },
   "file_extension": ".py",
   "mimetype": "text/x-python",
   "name": "python",
   "nbconvert_exporter": "python",
   "pygments_lexer": "ipython3",
   "version": "3.7.6"
  }
 },
 "nbformat": 4,
 "nbformat_minor": 4
}
