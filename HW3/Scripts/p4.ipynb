{
 "cells": [
  {
   "cell_type": "code",
   "execution_count": 5,
   "metadata": {},
   "outputs": [],
   "source": [
    "import numpy                as np\n",
    "import matplotlib.pyplot    as plot\n",
    "import scipy.misc           as misc\n",
    "import os"
   ]
  },
  {
   "cell_type": "code",
   "execution_count": 6,
   "metadata": {},
   "outputs": [],
   "source": [
    "def loadTrainingData2():\n",
    "    # Define path to training images\n",
    "    rpath = 'p4_data'\n",
    "\n",
    "    if os.path.isfile('{0}/X2.npy'.format(rpath)):\n",
    "        Xn = np.load('{0}/X2.npy'.format(rpath))\n",
    "        Ln = np.load('{0}/L2.npy'.format(rpath))\n",
    "        return (Xn,Ln)\n",
    "    else:\n",
    "\n",
    "        # load all image data\n",
    "        imn = misc.imread('{0}/{1}'.format(rpath,'ekalismall.png'))\n",
    "        (nr, nc, d) = imn.shape\n",
    "        d = np.fmin(d, 3)\n",
    "        N = nr * nc\n",
    "        r = imn[:, :, 0].reshape(1, N)\n",
    "        g = imn[:, :, 1].reshape(1, N)\n",
    "        b = imn[:, :, 2].reshape(1, N)\n",
    "\n",
    "        Xn = np.zeros((d, N))\n",
    "        Xn[0, :] = r\n",
    "        Xn[1, :] = g\n",
    "        Xn[2, :] = b\n",
    "\n",
    "        # load label data\n",
    "        iml = misc.imread('{0}/{1}'.format(rpath, 'ekalismall_lbls.png'))\n",
    "        (nr, nc, d) = iml.shape\n",
    "        d = np.fmin(d,3)\n",
    "        N = nr * nc\n",
    "        r = iml[:, :, 0].reshape(1, N)\n",
    "        g = iml[:, :, 1].reshape(1, N)\n",
    "        b = iml[:, :, 2].reshape(1, N)\n",
    "\n",
    "        Xl = np.zeros((d, N))\n",
    "        Xl[0, :] = r\n",
    "        Xl[1, :] = g\n",
    "        Xl[2, :] = b\n",
    "\n",
    "        # Create the labels vector\n",
    "        Ln = np.zeros((1,N))\n",
    "        red     = np.array([ [255], [0], [0] ]) # for ground label\n",
    "        green   = np.array([ [0], [255], [0] ]) # for buildings label\n",
    "        blue    = np.array([ [0], [0], [255] ]) # for pool label\n",
    "        for k in range(0,N):\n",
    "            if np.array_equal(Xl[:,k].reshape(3,1),blue):\n",
    "                Ln[0,k] = 0\n",
    "            elif np.array_equal(Xl[:,k].reshape(3,1),green):\n",
    "                Ln[0,k] = 2\n",
    "            else:\n",
    "                Ln[0,k] = 1\n",
    "\n",
    "        # save the chunks of data\n",
    "        np.save('{0}/X2.npy'.format(rpath), Xn)\n",
    "        np.save('{0}/L2.npy'.format(rpath), Ln)\n",
    "\n",
    "        # return the image data and labels\n",
    "        return (Xn,Ln)"
   ]
  },
  {
   "cell_type": "code",
   "execution_count": 2,
   "metadata": {},
   "outputs": [
    {
     "ename": "NameError",
     "evalue": "name 'os' is not defined",
     "output_type": "error",
     "traceback": [
      "\u001b[0;31m---------------------------------------------------------------------------\u001b[0m",
      "\u001b[0;31mNameError\u001b[0m                                 Traceback (most recent call last)",
      "\u001b[0;32m<ipython-input-2-92e323ac241b>\u001b[0m in \u001b[0;36m<module>\u001b[0;34m\u001b[0m\n\u001b[0;32m----> 1\u001b[0;31m \u001b[0;34m(\u001b[0m\u001b[0mXtr\u001b[0m\u001b[0;34m,\u001b[0m\u001b[0mLtr\u001b[0m\u001b[0;34m)\u001b[0m \u001b[0;34m=\u001b[0m \u001b[0mloadTrainingData2\u001b[0m\u001b[0;34m(\u001b[0m\u001b[0;34m)\u001b[0m\u001b[0;34m\u001b[0m\u001b[0;34m\u001b[0m\u001b[0m\n\u001b[0m\u001b[1;32m      2\u001b[0m \u001b[0;34m(\u001b[0m\u001b[0md\u001b[0m\u001b[0;34m,\u001b[0m\u001b[0mnd\u001b[0m\u001b[0;34m)\u001b[0m \u001b[0;34m=\u001b[0m \u001b[0mXtr\u001b[0m\u001b[0;34m.\u001b[0m\u001b[0mshape\u001b[0m\u001b[0;34m\u001b[0m\u001b[0;34m\u001b[0m\u001b[0m\n\u001b[1;32m      3\u001b[0m \u001b[0;34m\u001b[0m\u001b[0m\n\u001b[1;32m      4\u001b[0m \u001b[0;31m# define number of classes\u001b[0m\u001b[0;34m\u001b[0m\u001b[0;34m\u001b[0m\u001b[0;34m\u001b[0m\u001b[0m\n\u001b[1;32m      5\u001b[0m \u001b[0mnum_classes\u001b[0m \u001b[0;34m=\u001b[0m \u001b[0;36m3\u001b[0m\u001b[0;34m\u001b[0m\u001b[0;34m\u001b[0m\u001b[0m\n",
      "\u001b[0;32m<ipython-input-1-8a2e89065260>\u001b[0m in \u001b[0;36mloadTrainingData2\u001b[0;34m()\u001b[0m\n\u001b[1;32m      3\u001b[0m     \u001b[0mrpath\u001b[0m \u001b[0;34m=\u001b[0m \u001b[0;34m'p4_data'\u001b[0m\u001b[0;34m\u001b[0m\u001b[0;34m\u001b[0m\u001b[0m\n\u001b[1;32m      4\u001b[0m \u001b[0;34m\u001b[0m\u001b[0m\n\u001b[0;32m----> 5\u001b[0;31m     \u001b[0;32mif\u001b[0m \u001b[0mos\u001b[0m\u001b[0;34m.\u001b[0m\u001b[0mpath\u001b[0m\u001b[0;34m.\u001b[0m\u001b[0misfile\u001b[0m\u001b[0;34m(\u001b[0m\u001b[0;34m'{0}/X2.npy'\u001b[0m\u001b[0;34m.\u001b[0m\u001b[0mformat\u001b[0m\u001b[0;34m(\u001b[0m\u001b[0mrpath\u001b[0m\u001b[0;34m)\u001b[0m\u001b[0;34m)\u001b[0m\u001b[0;34m:\u001b[0m\u001b[0;34m\u001b[0m\u001b[0;34m\u001b[0m\u001b[0m\n\u001b[0m\u001b[1;32m      6\u001b[0m         \u001b[0mXn\u001b[0m \u001b[0;34m=\u001b[0m \u001b[0mnp\u001b[0m\u001b[0;34m.\u001b[0m\u001b[0mload\u001b[0m\u001b[0;34m(\u001b[0m\u001b[0;34m'{0}/X2.npy'\u001b[0m\u001b[0;34m.\u001b[0m\u001b[0mformat\u001b[0m\u001b[0;34m(\u001b[0m\u001b[0mrpath\u001b[0m\u001b[0;34m)\u001b[0m\u001b[0;34m)\u001b[0m\u001b[0;34m\u001b[0m\u001b[0;34m\u001b[0m\u001b[0m\n\u001b[1;32m      7\u001b[0m         \u001b[0mLn\u001b[0m \u001b[0;34m=\u001b[0m \u001b[0mnp\u001b[0m\u001b[0;34m.\u001b[0m\u001b[0mload\u001b[0m\u001b[0;34m(\u001b[0m\u001b[0;34m'{0}/L2.npy'\u001b[0m\u001b[0;34m.\u001b[0m\u001b[0mformat\u001b[0m\u001b[0;34m(\u001b[0m\u001b[0mrpath\u001b[0m\u001b[0;34m)\u001b[0m\u001b[0;34m)\u001b[0m\u001b[0;34m\u001b[0m\u001b[0;34m\u001b[0m\u001b[0m\n",
      "\u001b[0;31mNameError\u001b[0m: name 'os' is not defined"
     ]
    }
   ],
   "source": [
    "(Xtr,Ltr) = loadTrainingData2()\n",
    "(d,nd) = Xtr.shape\n",
    "\n",
    "# define number of classes\n",
    "num_classes = 3\n",
    "\n",
    "# define the index map\n",
    "imap = {'pool':0, 'ground':1, 'buildings':2}\n",
    "\n",
    "# build list of discriminant models\n",
    "dlist = dict()\n",
    "pidx = np.where(Ltr==0)[1]\n",
    "Xp = Xtr[:,pidx]\n",
    "for k in range(0,num_classes):\n",
    "    dlist[k] = mydsc.Discriminant(lbl_dataset=Xtr[:,np.where(Ltr==k)[1]],\n",
    "                                  num_total_data=nd,\n",
    "                                  Fpinv=np.eye(d,d))\n",
    "\n",
    "dlist[imap['pool']].cost_diff       = 2e0\n",
    "dlist[imap['ground']].cost_diff     = 1e0\n",
    "dlist[imap['buildings']].cost_diff  = 1e0\n",
    "\n",
    "# define the testing data\n",
    "im_test = misc.imread('ekalismall2.png')\n",
    "(nr, nc, d) = im_test.shape\n",
    "N = nr * nc\n",
    "r = im_test[:, :, 0].reshape(1, N)\n",
    "g = im_test[:, :, 1].reshape(1, N)\n",
    "b = im_test[:, :, 2].reshape(1, N)\n",
    "\n",
    "X = np.zeros((d - 1, N))\n",
    "X[0, :] = r\n",
    "X[1, :] = g\n",
    "X[2, :] = b\n",
    "\n",
    "# evaluate testing data based on discriminant models\n",
    "test_lbls = mydsc.evalDiscriminantSet(X,discriminant_list=dlist)\n",
    "\n",
    "# define colors to visualize the result\n",
    "colors=np.array([[255, 125],[0, 125],[0, 125]])\n",
    "\n",
    "# obtain new colors based on labels\n",
    "#Xn = colors[:,test_lbls]\n",
    "num0 = (test_lbls==0).sum()\n",
    "T = np.where(test_lbls == 0)\n",
    "idx0 = T[0].reshape(1,num0)\n",
    "idx1 = np.zeros((1, num0), dtype=int)\n",
    "Xn = np.copy(X)\n",
    "Xn[:,idx0] = colors[:,idx1]\n",
    "\n",
    "# create new image for testing image to show classification result\n",
    "im_out = np.copy(im_test)\n",
    "for c in range(0,d-1):\n",
    "    im_out[:,:,c] = Xn[c,:].reshape(nr,nc)\n",
    "\n",
    "# generate plot with image\n",
    "fig = plot.figure()\n",
    "ax = fig.add_subplot(111)\n",
    "ax.imshow(im_out)\n",
    "\n",
    "# save the image\n",
    "\n",
    "\n",
    "# make sure the plot is seen\n",
    "plot.show()"
   ]
  },
  {
   "cell_type": "code",
   "execution_count": 41,
   "metadata": {},
   "outputs": [
    {
     "name": "stdout",
     "output_type": "stream",
     "text": [
      "330750\n",
      "sampleRate = 22050\n",
      "length = 15.0s\n"
     ]
    }
   ],
   "source": [
    "length = data.shape[0] / sampleRate\n",
    "print(data.shape[0])\n",
    "print(f\"sampleRate = {sampleRate}\")\n",
    "print(f\"length = {length}s\")"
   ]
  },
  {
   "cell_type": "code",
   "execution_count": null,
   "metadata": {},
   "outputs": [],
   "source": []
  }
 ],
 "metadata": {
  "kernelspec": {
   "display_name": "Python 3",
   "language": "python",
   "name": "python3"
  },
  "language_info": {
   "codemirror_mode": {
    "name": "ipython",
    "version": 3
   },
   "file_extension": ".py",
   "mimetype": "text/x-python",
   "name": "python",
   "nbconvert_exporter": "python",
   "pygments_lexer": "ipython3",
   "version": "3.7.6"
  }
 },
 "nbformat": 4,
 "nbformat_minor": 4
}
